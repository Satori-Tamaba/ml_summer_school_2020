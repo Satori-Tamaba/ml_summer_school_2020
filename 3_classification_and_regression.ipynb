{
 "cells": [
  {
   "cell_type": "markdown",
   "metadata": {
    "collapsed": true,
    "pycharm": {
     "name": "#%% md\n"
    }
   },
   "source": [
    "# Задание №3. Алгоритмы классификации и регрессии\n",
    "\n",
    "## Классификация\n",
    "\n",
    "Примените к данным cancer.csv методы:\n",
    "1. AdaBoost. (sklearn.ensemble.AdaBoostClassifier)\n",
    "2. SVM (sklearn.svm.SVC). Поэкспериментируйте с ядрами и константой C: что меняется в решении?\n",
    "\n",
    "Выберите лучшую модель.\n",
    "\n",
    "\n",
    "## Регрессия\n",
    "\n",
    "Примените к данным noisysine.csv и hydrodynamics.csv методы:\n",
    "1. Полиномиальную регрессию без регуляризации (для датасета noisysine – степеней от 2 до 5, для датасета hydrodynamics – степени 2).\n",
    "2. Гребневая регрессия. Найдите оптимальный параметр регуляризации.\n",
    "3. LASSO. Найдите оптимальный параметр регуляризации. Сколько признаков используется в лучшей конфигурации?\n",
    "\n",
    "Оцените работу методов через R-score."
   ]
  }
 ],
 "metadata": {
  "kernelspec": {
   "display_name": "Python 3",
   "language": "python",
   "name": "python3"
  },
  "language_info": {
   "codemirror_mode": {
    "name": "ipython",
    "version": 2
   },
   "file_extension": ".py",
   "mimetype": "text/x-python",
   "name": "python",
   "nbconvert_exporter": "python",
   "pygments_lexer": "ipython2",
   "version": "2.7.6"
  }
 },
 "nbformat": 4,
 "nbformat_minor": 0
}
