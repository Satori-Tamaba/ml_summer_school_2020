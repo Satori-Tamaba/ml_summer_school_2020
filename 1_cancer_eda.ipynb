{
 "cells": [
  {
   "cell_type": "markdown",
   "source": [
    "# Задание №1. EDA данных cancer.csv\n",
    "\n",
    "Проведите простейший анализ данных предложенного датасета:\n",
    "1. Выведите количество строк с пропущенными значениями. Удалите их.\n",
    "2. Выведите количество дублированных строк. Оставьте только оригинальные строки.\n",
    "3. В одной из строк допущена ошибка в одном из признаков. Найдите эту строку, предположите, какая ошибка была допущена, и исправьте.\n",
    "4. Найдите признак(и) с наибольшим разбросом.\n",
    "\n",
    "Данные представляют собой измерения раковых и здоровых клеток. Целевая переменная - label."
   ],
   "metadata": {
    "collapsed": false
   }
  },
  {
   "cell_type": "code",
   "execution_count": 1,
   "outputs": [],
   "source": [
    "import pandas as pd\n",
    "import seaborn as sns\n",
    "import numpy as np\n",
    "\n",
    "# Путь к файлу cancer_eda.csv\n",
    "CANCER_DATASET_PATH = \"cancer_eda.csv\""
   ],
   "metadata": {
    "collapsed": false,
    "pycharm": {
     "name": "#%%\n"
    }
   }
  },
  {
   "cell_type": "code",
   "execution_count": 3,
   "outputs": [
    {
     "data": {
      "text/plain": "    label      1      2       3       4        5        6        7        8  \\\n0       M  17.99  10.38  122.80  1001.0  0.11840  0.27760  0.30010  0.14710   \n1       M  20.57  17.77  132.90  1326.0  0.08474  0.07864  0.08690  0.07017   \n2       M  19.69  21.25  130.00  1203.0  0.10960  0.15990  0.19740  0.12790   \n3       M  11.42  20.38   77.58   386.1  0.14250  0.28390  0.24140  0.10520   \n4       M  20.29  14.34  135.10  1297.0  0.10030  0.13280  0.19800  0.10430   \n..    ...    ...    ...     ...     ...      ...      ...      ...      ...   \n568     B   7.76  24.54   47.92   181.0  0.05263  0.04362  0.00000  0.00000   \n569     M  17.14  16.40  116.00   912.7  0.11860  0.22760  0.22290  0.14010   \n570     M  17.14  16.40  116.00   912.7  0.11860  0.22760  0.22290  0.14010   \n571     M  16.60  28.08  108.30   858.1  0.08455  0.10230  0.09251  0.05302   \n572     M  14.99  25.20   95.54   698.8  0.09387  0.05131  0.02398  0.02899   \n\n          9  ...      21     22      23      24       25       26       27  \\\n0    0.2419  ...  25.380  17.33  184.60  2019.0  0.16220  0.66560  0.71190   \n1    0.1812  ...  24.990  23.41  158.80  1956.0  0.12380  0.18660  0.24160   \n2    0.2069  ...  23.570  25.53  152.50  1709.0  0.14440  0.42450  0.45040   \n3    0.2597  ...  14.910  26.50   98.87   567.7  0.20980  0.86630  0.68690   \n4    0.1809  ...  22.540  16.67  152.20  1575.0  0.13740  0.20500  0.40000   \n..      ...  ...     ...    ...     ...     ...      ...      ...      ...   \n568  0.1587  ...   9.456  30.37   59.16   268.6  0.08996  0.06444  0.00000   \n569  0.3040  ...  22.250  21.40  152.40  1461.0  0.15450  0.39490  0.38530   \n570  0.3040  ...  22.250  21.40  152.40  1461.0  0.15450  0.39490  0.38530   \n571  0.1590  ...  18.980  34.12  126.70  1124.0  0.11390  0.30940  0.34030   \n572  0.1565  ...  14.990  25.20   95.54   698.8  0.09387  0.05131  0.02398   \n\n          28      29       30  \n0    0.26540  0.4601  0.11890  \n1    0.18600  0.2750  0.08902  \n2    0.24300  0.3613  0.08758  \n3    0.25750  0.6638  0.17300  \n4    0.16250  0.2364  0.07678  \n..       ...     ...      ...  \n568  0.00000  0.2871  0.07039  \n569  0.25500  0.4066  0.10590  \n570  0.25500  0.4066  0.10590  \n571  0.14180  0.2218  0.07820  \n572  0.02899  0.1565  0.05504  \n\n[573 rows x 31 columns]",
      "text/html": "<div>\n<style scoped>\n    .dataframe tbody tr th:only-of-type {\n        vertical-align: middle;\n    }\n\n    .dataframe tbody tr th {\n        vertical-align: top;\n    }\n\n    .dataframe thead th {\n        text-align: right;\n    }\n</style>\n<table border=\"1\" class=\"dataframe\">\n  <thead>\n    <tr style=\"text-align: right;\">\n      <th></th>\n      <th>label</th>\n      <th>1</th>\n      <th>2</th>\n      <th>3</th>\n      <th>4</th>\n      <th>5</th>\n      <th>6</th>\n      <th>7</th>\n      <th>8</th>\n      <th>9</th>\n      <th>...</th>\n      <th>21</th>\n      <th>22</th>\n      <th>23</th>\n      <th>24</th>\n      <th>25</th>\n      <th>26</th>\n      <th>27</th>\n      <th>28</th>\n      <th>29</th>\n      <th>30</th>\n    </tr>\n  </thead>\n  <tbody>\n    <tr>\n      <th>0</th>\n      <td>M</td>\n      <td>17.99</td>\n      <td>10.38</td>\n      <td>122.80</td>\n      <td>1001.0</td>\n      <td>0.11840</td>\n      <td>0.27760</td>\n      <td>0.30010</td>\n      <td>0.14710</td>\n      <td>0.2419</td>\n      <td>...</td>\n      <td>25.380</td>\n      <td>17.33</td>\n      <td>184.60</td>\n      <td>2019.0</td>\n      <td>0.16220</td>\n      <td>0.66560</td>\n      <td>0.71190</td>\n      <td>0.26540</td>\n      <td>0.4601</td>\n      <td>0.11890</td>\n    </tr>\n    <tr>\n      <th>1</th>\n      <td>M</td>\n      <td>20.57</td>\n      <td>17.77</td>\n      <td>132.90</td>\n      <td>1326.0</td>\n      <td>0.08474</td>\n      <td>0.07864</td>\n      <td>0.08690</td>\n      <td>0.07017</td>\n      <td>0.1812</td>\n      <td>...</td>\n      <td>24.990</td>\n      <td>23.41</td>\n      <td>158.80</td>\n      <td>1956.0</td>\n      <td>0.12380</td>\n      <td>0.18660</td>\n      <td>0.24160</td>\n      <td>0.18600</td>\n      <td>0.2750</td>\n      <td>0.08902</td>\n    </tr>\n    <tr>\n      <th>2</th>\n      <td>M</td>\n      <td>19.69</td>\n      <td>21.25</td>\n      <td>130.00</td>\n      <td>1203.0</td>\n      <td>0.10960</td>\n      <td>0.15990</td>\n      <td>0.19740</td>\n      <td>0.12790</td>\n      <td>0.2069</td>\n      <td>...</td>\n      <td>23.570</td>\n      <td>25.53</td>\n      <td>152.50</td>\n      <td>1709.0</td>\n      <td>0.14440</td>\n      <td>0.42450</td>\n      <td>0.45040</td>\n      <td>0.24300</td>\n      <td>0.3613</td>\n      <td>0.08758</td>\n    </tr>\n    <tr>\n      <th>3</th>\n      <td>M</td>\n      <td>11.42</td>\n      <td>20.38</td>\n      <td>77.58</td>\n      <td>386.1</td>\n      <td>0.14250</td>\n      <td>0.28390</td>\n      <td>0.24140</td>\n      <td>0.10520</td>\n      <td>0.2597</td>\n      <td>...</td>\n      <td>14.910</td>\n      <td>26.50</td>\n      <td>98.87</td>\n      <td>567.7</td>\n      <td>0.20980</td>\n      <td>0.86630</td>\n      <td>0.68690</td>\n      <td>0.25750</td>\n      <td>0.6638</td>\n      <td>0.17300</td>\n    </tr>\n    <tr>\n      <th>4</th>\n      <td>M</td>\n      <td>20.29</td>\n      <td>14.34</td>\n      <td>135.10</td>\n      <td>1297.0</td>\n      <td>0.10030</td>\n      <td>0.13280</td>\n      <td>0.19800</td>\n      <td>0.10430</td>\n      <td>0.1809</td>\n      <td>...</td>\n      <td>22.540</td>\n      <td>16.67</td>\n      <td>152.20</td>\n      <td>1575.0</td>\n      <td>0.13740</td>\n      <td>0.20500</td>\n      <td>0.40000</td>\n      <td>0.16250</td>\n      <td>0.2364</td>\n      <td>0.07678</td>\n    </tr>\n    <tr>\n      <th>...</th>\n      <td>...</td>\n      <td>...</td>\n      <td>...</td>\n      <td>...</td>\n      <td>...</td>\n      <td>...</td>\n      <td>...</td>\n      <td>...</td>\n      <td>...</td>\n      <td>...</td>\n      <td>...</td>\n      <td>...</td>\n      <td>...</td>\n      <td>...</td>\n      <td>...</td>\n      <td>...</td>\n      <td>...</td>\n      <td>...</td>\n      <td>...</td>\n      <td>...</td>\n      <td>...</td>\n    </tr>\n    <tr>\n      <th>568</th>\n      <td>B</td>\n      <td>7.76</td>\n      <td>24.54</td>\n      <td>47.92</td>\n      <td>181.0</td>\n      <td>0.05263</td>\n      <td>0.04362</td>\n      <td>0.00000</td>\n      <td>0.00000</td>\n      <td>0.1587</td>\n      <td>...</td>\n      <td>9.456</td>\n      <td>30.37</td>\n      <td>59.16</td>\n      <td>268.6</td>\n      <td>0.08996</td>\n      <td>0.06444</td>\n      <td>0.00000</td>\n      <td>0.00000</td>\n      <td>0.2871</td>\n      <td>0.07039</td>\n    </tr>\n    <tr>\n      <th>569</th>\n      <td>M</td>\n      <td>17.14</td>\n      <td>16.40</td>\n      <td>116.00</td>\n      <td>912.7</td>\n      <td>0.11860</td>\n      <td>0.22760</td>\n      <td>0.22290</td>\n      <td>0.14010</td>\n      <td>0.3040</td>\n      <td>...</td>\n      <td>22.250</td>\n      <td>21.40</td>\n      <td>152.40</td>\n      <td>1461.0</td>\n      <td>0.15450</td>\n      <td>0.39490</td>\n      <td>0.38530</td>\n      <td>0.25500</td>\n      <td>0.4066</td>\n      <td>0.10590</td>\n    </tr>\n    <tr>\n      <th>570</th>\n      <td>M</td>\n      <td>17.14</td>\n      <td>16.40</td>\n      <td>116.00</td>\n      <td>912.7</td>\n      <td>0.11860</td>\n      <td>0.22760</td>\n      <td>0.22290</td>\n      <td>0.14010</td>\n      <td>0.3040</td>\n      <td>...</td>\n      <td>22.250</td>\n      <td>21.40</td>\n      <td>152.40</td>\n      <td>1461.0</td>\n      <td>0.15450</td>\n      <td>0.39490</td>\n      <td>0.38530</td>\n      <td>0.25500</td>\n      <td>0.4066</td>\n      <td>0.10590</td>\n    </tr>\n    <tr>\n      <th>571</th>\n      <td>M</td>\n      <td>16.60</td>\n      <td>28.08</td>\n      <td>108.30</td>\n      <td>858.1</td>\n      <td>0.08455</td>\n      <td>0.10230</td>\n      <td>0.09251</td>\n      <td>0.05302</td>\n      <td>0.1590</td>\n      <td>...</td>\n      <td>18.980</td>\n      <td>34.12</td>\n      <td>126.70</td>\n      <td>1124.0</td>\n      <td>0.11390</td>\n      <td>0.30940</td>\n      <td>0.34030</td>\n      <td>0.14180</td>\n      <td>0.2218</td>\n      <td>0.07820</td>\n    </tr>\n    <tr>\n      <th>572</th>\n      <td>M</td>\n      <td>14.99</td>\n      <td>25.20</td>\n      <td>95.54</td>\n      <td>698.8</td>\n      <td>0.09387</td>\n      <td>0.05131</td>\n      <td>0.02398</td>\n      <td>0.02899</td>\n      <td>0.1565</td>\n      <td>...</td>\n      <td>14.990</td>\n      <td>25.20</td>\n      <td>95.54</td>\n      <td>698.8</td>\n      <td>0.09387</td>\n      <td>0.05131</td>\n      <td>0.02398</td>\n      <td>0.02899</td>\n      <td>0.1565</td>\n      <td>0.05504</td>\n    </tr>\n  </tbody>\n</table>\n<p>573 rows × 31 columns</p>\n</div>"
     },
     "execution_count": 3,
     "metadata": {},
     "output_type": "execute_result"
    }
   ],
   "source": [
    "df = pd.read_csv(CANCER_DATASET_PATH)\n",
    "df\n"
   ],
   "metadata": {
    "collapsed": false,
    "pycharm": {
     "name": "#%%\n"
    }
   }
  }
 ],
 "metadata": {
  "kernelspec": {
   "display_name": "Python 3",
   "language": "python",
   "name": "python3"
  },
  "language_info": {
   "codemirror_mode": {
    "name": "ipython",
    "version": 2
   },
   "file_extension": ".py",
   "mimetype": "text/x-python",
   "name": "python",
   "nbconvert_exporter": "python",
   "pygments_lexer": "ipython2",
   "version": "2.7.6"
  }
 },
 "nbformat": 4,
 "nbformat_minor": 0
}
